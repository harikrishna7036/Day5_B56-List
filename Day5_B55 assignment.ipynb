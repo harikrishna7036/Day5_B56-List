{
 "cells": [
  {
   "cell_type": "code",
   "execution_count": 1,
   "id": "52f11b1d",
   "metadata": {},
   "outputs": [],
   "source": [
    "# oranising the list data types"
   ]
  },
  {
   "cell_type": "code",
   "execution_count": 2,
   "id": "b12a7cea",
   "metadata": {},
   "outputs": [],
   "source": [
    "mobiles = [\"sumsung\",\"realme\",\"iqoo\",\"apple\",\"motorola\",\"oneplus\"]"
   ]
  },
  {
   "cell_type": "code",
   "execution_count": 3,
   "id": "d6de490a",
   "metadata": {},
   "outputs": [
    {
     "name": "stdout",
     "output_type": "stream",
     "text": [
      "['sumsung', 'realme', 'iqoo', 'apple', 'motorola', 'oneplus']\n"
     ]
    }
   ],
   "source": [
    "print(mobiles)"
   ]
  },
  {
   "cell_type": "code",
   "execution_count": 4,
   "id": "db164b52",
   "metadata": {},
   "outputs": [
    {
     "name": "stdout",
     "output_type": "stream",
     "text": [
      "['apple', 'iqoo', 'motorola', 'oneplus', 'realme', 'sumsung']\n"
     ]
    }
   ],
   "source": [
    "# sorted use \n",
    "print(sorted(mobiles))"
   ]
  },
  {
   "cell_type": "code",
   "execution_count": 5,
   "id": "dc58c450",
   "metadata": {},
   "outputs": [],
   "source": [
    "#afte the process we can get the orginal order of the list"
   ]
  },
  {
   "cell_type": "code",
   "execution_count": 6,
   "id": "e7248767",
   "metadata": {},
   "outputs": [
    {
     "name": "stdout",
     "output_type": "stream",
     "text": [
      "['sumsung', 'realme', 'iqoo', 'apple', 'motorola', 'oneplus']\n"
     ]
    }
   ],
   "source": [
    "#---->lets seee like this we can ca get the first order of the list\n",
    "print(mobiles)"
   ]
  },
  {
   "cell_type": "code",
   "execution_count": null,
   "id": "5fb0ed22",
   "metadata": {},
   "outputs": [],
   "source": []
  },
  {
   "cell_type": "code",
   "execution_count": 7,
   "id": "bb61c025",
   "metadata": {},
   "outputs": [],
   "source": [
    "#sort ------>in this we cannot get the orginal order of the list"
   ]
  },
  {
   "cell_type": "code",
   "execution_count": 9,
   "id": "a625cdb5",
   "metadata": {},
   "outputs": [
    {
     "name": "stdout",
     "output_type": "stream",
     "text": [
      "['apple', 'iqoo', 'motorola', 'oneplus', 'realme', 'sumsung']\n"
     ]
    }
   ],
   "source": [
    "mobiles.sort()\n",
    "print(mobiles)"
   ]
  },
  {
   "cell_type": "code",
   "execution_count": 10,
   "id": "e27b607a",
   "metadata": {},
   "outputs": [
    {
     "name": "stdout",
     "output_type": "stream",
     "text": [
      "['apple', 'iqoo', 'motorola', 'oneplus', 'realme', 'sumsung']\n"
     ]
    }
   ],
   "source": [
    "print(mobiles)# in here we cannot get the first order of the list"
   ]
  },
  {
   "cell_type": "code",
   "execution_count": null,
   "id": "7ac77dad",
   "metadata": {},
   "outputs": [],
   "source": []
  },
  {
   "cell_type": "code",
   "execution_count": null,
   "id": "a88789e5",
   "metadata": {},
   "outputs": [],
   "source": [
    "#i want to prit the entire list in reverse order?"
   ]
  },
  {
   "cell_type": "code",
   "execution_count": 12,
   "id": "07041a6c",
   "metadata": {},
   "outputs": [],
   "source": [
    "mobiles.reverse()"
   ]
  },
  {
   "cell_type": "code",
   "execution_count": 13,
   "id": "017d752b",
   "metadata": {},
   "outputs": [
    {
     "name": "stdout",
     "output_type": "stream",
     "text": [
      "['sumsung', 'realme', 'oneplus', 'motorola', 'iqoo', 'apple']\n"
     ]
    }
   ],
   "source": [
    "print(mobiles)"
   ]
  },
  {
   "cell_type": "code",
   "execution_count": 14,
   "id": "456126e7",
   "metadata": {},
   "outputs": [],
   "source": [
    "# to finding the length of the list"
   ]
  },
  {
   "cell_type": "code",
   "execution_count": 15,
   "id": "e805358e",
   "metadata": {},
   "outputs": [
    {
     "name": "stdout",
     "output_type": "stream",
     "text": [
      "6\n"
     ]
    }
   ],
   "source": [
    "print(len(mobiles))"
   ]
  },
  {
   "cell_type": "code",
   "execution_count": null,
   "id": "6d34ef69",
   "metadata": {},
   "outputs": [],
   "source": []
  },
  {
   "cell_type": "code",
   "execution_count": null,
   "id": "0367012f",
   "metadata": {},
   "outputs": [],
   "source": [
    "# INTRODUCTION TO SLICING OF LISTS "
   ]
  },
  {
   "cell_type": "code",
   "execution_count": 26,
   "id": "ba4e26fa",
   "metadata": {},
   "outputs": [],
   "source": [
    "movies = [\"thor\",\"avengers\",\"spiderman\",\"desert\",\"matrix\",\"noescape\",\"shutterisland\",\"deadpool\",\"men_in_black\",\"power\"]"
   ]
  },
  {
   "cell_type": "code",
   "execution_count": null,
   "id": "82ff09ad",
   "metadata": {},
   "outputs": [],
   "source": [
    "# LETS COMBINE ALL THOSE CONCEPTS \n"
   ]
  },
  {
   "cell_type": "code",
   "execution_count": 24,
   "id": "a9c4afdf",
   "metadata": {},
   "outputs": [
    {
     "name": "stdout",
     "output_type": "stream",
     "text": [
      "['avengers', 'deadpool', 'desert', 'matrix', 'noescape', 'shutterisland', 'spiderman', 'thor']\n"
     ]
    }
   ],
   "source": [
    "movies.sort()\n",
    "print(movies)"
   ]
  },
  {
   "cell_type": "code",
   "execution_count": 27,
   "id": "1fab2905",
   "metadata": {},
   "outputs": [
    {
     "name": "stdout",
     "output_type": "stream",
     "text": [
      "10\n"
     ]
    }
   ],
   "source": [
    "print(len(movies))# FINDING LENGTH"
   ]
  },
  {
   "cell_type": "code",
   "execution_count": 28,
   "id": "40f2e5c8",
   "metadata": {},
   "outputs": [
    {
     "name": "stdout",
     "output_type": "stream",
     "text": [
      "['thor', 'avengers']\n"
     ]
    }
   ],
   "source": [
    "print(movies[0:2])#SLICING"
   ]
  },
  {
   "cell_type": "code",
   "execution_count": 29,
   "id": "ad16efc4",
   "metadata": {},
   "outputs": [
    {
     "name": "stdout",
     "output_type": "stream",
     "text": [
      "['spiderman', 'desert']\n"
     ]
    }
   ],
   "source": [
    "print(movies[2:4])#SLICING"
   ]
  },
  {
   "cell_type": "code",
   "execution_count": 30,
   "id": "be4fb5df",
   "metadata": {},
   "outputs": [
    {
     "name": "stdout",
     "output_type": "stream",
     "text": [
      "['thor', 'spiderman', 'matrix', 'shutterisland', 'men_in_black']\n"
     ]
    }
   ],
   "source": [
    "print(movies[0:10:2])#SLICING TOTAL LIST"
   ]
  },
  {
   "cell_type": "code",
   "execution_count": null,
   "id": "bc94f48b",
   "metadata": {},
   "outputs": [],
   "source": []
  }
 ],
 "metadata": {
  "kernelspec": {
   "display_name": "Python 3 (ipykernel)",
   "language": "python",
   "name": "python3"
  },
  "language_info": {
   "codemirror_mode": {
    "name": "ipython",
    "version": 3
   },
   "file_extension": ".py",
   "mimetype": "text/x-python",
   "name": "python",
   "nbconvert_exporter": "python",
   "pygments_lexer": "ipython3",
   "version": "3.9.7"
  }
 },
 "nbformat": 4,
 "nbformat_minor": 5
}
